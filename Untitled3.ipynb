{
 "cells": [
  {
   "cell_type": "code",
   "execution_count": 1,
   "id": "c26d4ec4",
   "metadata": {},
   "outputs": [
    {
     "name": "stdout",
     "output_type": "stream",
     "text": [
      "-10\n",
      "-9\n",
      "-8\n",
      "-7\n",
      "-6\n",
      "-5\n",
      "-4\n",
      "-3\n",
      "-2\n",
      "-1\n"
     ]
    }
   ],
   "source": [
    "#Display numbers from -10 to -1 using for loop\n",
    "for i in range(-10, 0):\n",
    "    print(i)"
   ]
  },
  {
   "cell_type": "code",
   "execution_count": 2,
   "id": "3dc165af",
   "metadata": {},
   "outputs": [
    {
     "name": "stdout",
     "output_type": "stream",
     "text": [
      "5\n"
     ]
    }
   ],
   "source": [
    "#Given a number count the total number of digits in a number, for example, the number is 75869, so the output should be 5.\n",
    "\n",
    "def count(n):\n",
    "    return len(str(n))\n",
    "print(count(75869))\n"
   ]
  },
  {
   "cell_type": "code",
   "execution_count": 9,
   "id": "451ed213",
   "metadata": {},
   "outputs": [
    {
     "name": "stdout",
     "output_type": "stream",
     "text": [
      "1\n",
      "8\n"
     ]
    }
   ],
   "source": [
    "#Write a function which Displays the cube of the number up to a given integer, for example the number is 2 the cube should be 8.\n",
    "def cube(m):\n",
    "    for z in range(1, m+1):\n",
    "        print(z**3)\n",
    "cube(2)\n",
    "\n",
    "\n",
    "    "
   ]
  },
  {
   "cell_type": "code",
   "execution_count": 10,
   "id": "4214f96b",
   "metadata": {},
   "outputs": [
    {
     "name": "stdout",
     "output_type": "stream",
     "text": [
      "250\n"
     ]
    }
   ],
   "source": [
    "#Given two integer numbers return their product. If the product is greater than 1000, then return their sum\n",
    "def number_prod(num1,num2):\n",
    "    produit = num1 * num2\n",
    "    if produit > 1000:\n",
    "        return num1+num2\n",
    "    else:\n",
    "        return produit\n",
    "print(number_prod(100,150))\n"
   ]
  },
  {
   "cell_type": "code",
   "execution_count": 11,
   "id": "6e488c1a",
   "metadata": {},
   "outputs": [
    {
     "name": "stdout",
     "output_type": "stream",
     "text": [
      "True\n"
     ]
    }
   ],
   "source": [
    "#Given a list of numbers, return True if first and last number of a list is same\n",
    "\n",
    "def true_or_false(liste):\n",
    "\t\tif liste[0]==liste[-1]:\n",
    "\t\t\treturn\tTrue \n",
    "\t\telse:\n",
    "\t\t\treturn False \n",
    "liste = [1,245,594,2,1]\n",
    "print(true_or_false(liste))\n"
   ]
  },
  {
   "cell_type": "code",
   "execution_count": 12,
   "id": "1c3fb089",
   "metadata": {},
   "outputs": [
    {
     "name": "stdout",
     "output_type": "stream",
     "text": [
      "[23, 11, 17, 24, 36, 12]\n"
     ]
    }
   ],
   "source": [
    "#Given a two list of numbers create a new list such that new list should contain only odd numbers from the first list and even numbers from the second list, for example list1 =  [10, 20, 23, 11, 17] and list 2 = [13, 43, 24, 36, 12]  => result should be [23, 11, 17, 24, 36, 12]\n",
    "\n",
    "def even_odd(listeA,listeB):\n",
    "\t\tliste = []\n",
    "\t\tfor i in listeA:\n",
    "\t\t\tif i % 2 != 0:\n",
    "\t\t\t\tliste.append(i)\n",
    "\t\tfor j in listeB:\n",
    "\t\t\tif j % 2 == 0:\n",
    "\t\t\t\tliste.append(j)\t\n",
    "\t\treturn liste\t\n",
    "list1 = [10, 20, 23, 11, 17]\n",
    "list2 = [13, 43, 24, 36, 12]\n",
    "print(even_odd(list1,list2))\n"
   ]
  },
  {
   "cell_type": "code",
   "execution_count": 14,
   "id": "4778c3bb",
   "metadata": {},
   "outputs": [
    {
     "name": "stdout",
     "output_type": "stream",
     "text": [
      "{11: 1}\n"
     ]
    }
   ],
   "source": [
    "#Write a function which Iterates a given list and counts the occurrence of each element and creates a dictionary to show the count of each element, for example: input list  [11, 45, 8, 11, 23, 45, 23, 45, 89]=> result should be {11: 2, 45: 3, 8: 1, 23: 2, 89: 1}\n",
    "def count(lst):\n",
    "    counts = {}\n",
    "    for j in lst:\n",
    "        if j in counts:\n",
    "            counts[j] += 1\n",
    "        else:\n",
    "            counts[j] = 1\n",
    "        return counts\n",
    "\n",
    "print(count([11, 45, 8, 11, 23, 45, 23, 45, 89])) \n"
   ]
  },
  {
   "cell_type": "code",
   "execution_count": 15,
   "id": "b08d016f",
   "metadata": {},
   "outputs": [
    {
     "name": "stdout",
     "output_type": "stream",
     "text": [
      "{57, 83, 29}\n",
      "{65, 42, 78, 23}\n"
     ]
    }
   ],
   "source": [
    "#Write a function which finds the intersection of two sets and removes common elements from the first set. for example: First Set  {65, 42, 78, 83, 23, 57, 29} and Second Set  {67, 73, 43, 48, 83, 57, 29} => Intersection should be  {57, 83, 29} and First Set after removing common element  {65, 42, 78, 23}\n",
    "def find_intersection(set1, set2):\n",
    "    intersection = set1.intersection(set2)\n",
    "    set1 = set1 - intersection\n",
    "    return intersection, set1\n",
    "\n",
    "set1 = {65, 42, 78, 83, 23, 57, 29}\n",
    "set2 = {67, 73, 43, 48, 83, 57, 29}\n",
    "intersection, s1 = find_intersection(set1, set2)\n",
    "print(intersection) \n",
    "print(s1)\n"
   ]
  },
  {
   "cell_type": "code",
   "execution_count": null,
   "id": "dbaa5d85",
   "metadata": {},
   "outputs": [],
   "source": []
  }
 ],
 "metadata": {
  "kernelspec": {
   "display_name": "Python 3 (ipykernel)",
   "language": "python",
   "name": "python3"
  },
  "language_info": {
   "codemirror_mode": {
    "name": "ipython",
    "version": 3
   },
   "file_extension": ".py",
   "mimetype": "text/x-python",
   "name": "python",
   "nbconvert_exporter": "python",
   "pygments_lexer": "ipython3",
   "version": "3.9.13"
  }
 },
 "nbformat": 4,
 "nbformat_minor": 5
}
