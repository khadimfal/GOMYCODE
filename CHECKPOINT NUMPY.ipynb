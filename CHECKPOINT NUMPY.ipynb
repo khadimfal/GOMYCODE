{
 "cells": [
  {
   "cell_type": "code",
   "execution_count": 1,
   "id": "d4a64181",
   "metadata": {},
   "outputs": [
    {
     "name": "stdout",
     "output_type": "stream",
     "text": [
      "[1, 2, 3, 4, 5]\n"
     ]
    }
   ],
   "source": [
    "#Write a Python program to convert an array to an ordinary list with the same items.\n",
    "import array \n",
    "m_array =  array.array(\"i\", [1, 2, 3, 4, 5])\n",
    "liste = list(m_array)\n",
    "print(liste)\n"
   ]
  },
  {
   "cell_type": "code",
   "execution_count": 2,
   "id": "fcecb144",
   "metadata": {},
   "outputs": [
    {
     "name": "stdout",
     "output_type": "stream",
     "text": [
      "15\n"
     ]
    }
   ],
   "source": [
    "#2.Write a NumPy program to compute the sum of the diagonal element of a given array.\n",
    "\n",
    "import numpy as np\n",
    "my_array = np.array([[1, 2, 3], [4, 5, 6],[7, 8, 9]])\n",
    "result = sum(np.diag(my_array))\n",
    "print(result)\n"
   ]
  },
  {
   "cell_type": "code",
   "execution_count": 3,
   "id": "d484467e",
   "metadata": {},
   "outputs": [
    {
     "name": "stdout",
     "output_type": "stream",
     "text": [
      "3\n",
      "5\n"
     ]
    }
   ],
   "source": [
    "#3.Given an array of your choice, get all the values higher than X :if a = [[1,2],[3,5]] and x = 2 :  then 3 and 5 are higher than 2.\n",
    "\n",
    "a = [[1,2],[3,5]]\n",
    "x = 2\n",
    "for val in a:\n",
    "\tfor i in val:\n",
    "\t\tif i > 2:\n",
    "\t\t\tprint(i)\n"
   ]
  },
  {
   "cell_type": "code",
   "execution_count": 4,
   "id": "a738beab",
   "metadata": {},
   "outputs": [
    {
     "name": "stdout",
     "output_type": "stream",
     "text": [
      "[ 2  4  6  8 10 12 14]\n"
     ]
    }
   ],
   "source": [
    "#4.Given two arrays A&B having the same shape. The task is to apply addition of A and B : C is the new array.\n",
    "\n",
    "import numpy as np \n",
    "A = np.array([1,2,3,4,5,6,7])\n",
    "B = np.array([1,2,3,4,5,6,7])\n",
    "\n",
    "C = np.add(A,B)\n",
    "print(C)\n"
   ]
  },
  {
   "cell_type": "code",
   "execution_count": null,
   "id": "2814b1bb",
   "metadata": {},
   "outputs": [],
   "source": []
  }
 ],
 "metadata": {
  "kernelspec": {
   "display_name": "Python 3 (ipykernel)",
   "language": "python",
   "name": "python3"
  },
  "language_info": {
   "codemirror_mode": {
    "name": "ipython",
    "version": 3
   },
   "file_extension": ".py",
   "mimetype": "text/x-python",
   "name": "python",
   "nbconvert_exporter": "python",
   "pygments_lexer": "ipython3",
   "version": "3.9.13"
  }
 },
 "nbformat": 4,
 "nbformat_minor": 5
}
