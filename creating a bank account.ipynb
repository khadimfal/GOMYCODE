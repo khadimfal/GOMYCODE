{
 "cells": [
  {
   "cell_type": "code",
   "execution_count": 6,
   "id": "9ed5a203",
   "metadata": {},
   "outputs": [
    {
     "name": "stdout",
     "output_type": "stream",
     "text": [
      "4000.0\n",
      "2500.0\n"
     ]
    }
   ],
   "source": [
    "class Account:\n",
    "    def __init__(self, account_number, account_balance, account_holder):\n",
    "        self.account_number = account_number\n",
    "        self.account_balance = account_balance\n",
    "        self.account_holder = account_holder\n",
    "\n",
    "    def deposit(self, amount):\n",
    "        self.account_balance += amount\n",
    "\n",
    "    def withdraw(self, amount):\n",
    "        if self.account_balance >= amount:\n",
    "            self.account_balance -= amount\n",
    "        else:\n",
    "            print(\"Insufficient balance!\")\n",
    "\n",
    "    def check_balance(self):\n",
    "        return self.account_balance\n",
    "\n",
    "account1 = Account(\"111111\", 5000.0, \"Khadim\")\n",
    "account2 = Account(\"222222\", 3000.0, \"sempera\")\n",
    "\n",
    "account1.deposit(1000.0)\n",
    "account1.withdraw(2000.0)\n",
    "\n",
    "account2.deposit(500.0)\n",
    "account2.withdraw(1000.0)\n",
    "\n",
    "print(account1.check_balance()) \n",
    "print(account2.check_balance())  \n"
   ]
  },
  {
   "cell_type": "code",
   "execution_count": null,
   "id": "43afa59e",
   "metadata": {},
   "outputs": [],
   "source": []
  }
 ],
 "metadata": {
  "kernelspec": {
   "display_name": "Python 3 (ipykernel)",
   "language": "python",
   "name": "python3"
  },
  "language_info": {
   "codemirror_mode": {
    "name": "ipython",
    "version": 3
   },
   "file_extension": ".py",
   "mimetype": "text/x-python",
   "name": "python",
   "nbconvert_exporter": "python",
   "pygments_lexer": "ipython3",
   "version": "3.9.13"
  }
 },
 "nbformat": 4,
 "nbformat_minor": 5
}
