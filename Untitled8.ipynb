{
 "cells": [
  {
   "cell_type": "code",
   "execution_count": 3,
   "id": "067dc146",
   "metadata": {},
   "outputs": [
    {
     "data": {
      "text/plain": [
       "{'paris': 'default', 'londres': 'default', 'bruxelles': 'default'}"
      ]
     },
     "execution_count": 3,
     "metadata": {},
     "output_type": "execute_result"
    }
   ],
   "source": [
    "inventaire = {\n",
    "    'bananes': 5000,\n",
    "    'pommes': 2094,\n",
    "    'poires': 412809,\n",
    "    'cerises': 2893,\n",
    "    'abricots': 4902\n",
    "}\n",
    "\n",
    "listeA = ('paris','londres','bruxelles')\n",
    "inventaire.fromkeys(listeA, 'default')\n"
   ]
  },
  {
   "cell_type": "code",
   "execution_count": 4,
   "id": "7de199b0",
   "metadata": {},
   "outputs": [
    {
     "data": {
      "text/plain": [
       "[[0, 1, 2], [0, 1, 2], [0, 1, 2]]"
      ]
     },
     "execution_count": 4,
     "metadata": {},
     "output_type": "execute_result"
    }
   ],
   "source": [
    "listeB = [[i for i in range(3)] for j in range(3)]\n",
    "listeB\n"
   ]
  },
  {
   "cell_type": "code",
   "execution_count": 5,
   "id": "8149dd27",
   "metadata": {},
   "outputs": [
    {
     "name": "stdout",
     "output_type": "stream",
     "text": [
      "{0: 'Pierre', 1: 'Jean', 2: 'Julie', 3: 'Sophie'}\n"
     ]
    }
   ],
   "source": [
    "prenoms = ['Pierre','Jean','Julie','Sophie']\n",
    "dico = {k:v for k, v in enumerate(prenoms)}\n",
    "print(dico)"
   ]
  },
  {
   "cell_type": "code",
   "execution_count": 6,
   "id": "b9c5f8c8",
   "metadata": {},
   "outputs": [
    {
     "data": {
      "text/plain": [
       "dict_values(['Pierre', 'Jean', 'Julie', 'Sophie'])"
      ]
     },
     "execution_count": 6,
     "metadata": {},
     "output_type": "execute_result"
    }
   ],
   "source": [
    "dico.values()\n"
   ]
  },
  {
   "cell_type": "code",
   "execution_count": 9,
   "id": "6745f4fa",
   "metadata": {},
   "outputs": [
    {
     "data": {
      "text/plain": [
       "{'Pierre': 24, 'Jean': 62, 'Sophie': 23}"
      ]
     },
     "execution_count": 9,
     "metadata": {},
     "output_type": "execute_result"
    }
   ],
   "source": [
    "age = [24,62,10,23]\n",
    "dicoA = {prenoms:age for prenoms,age in zip(prenoms,age) if age>20}\n",
    "dicoA"
   ]
  },
  {
   "cell_type": "code",
   "execution_count": 10,
   "id": "1ff88a9b",
   "metadata": {},
   "outputs": [],
   "source": [
    "##tuple\n"
   ]
  },
  {
   "cell_type": "code",
   "execution_count": 11,
   "id": "29512b61",
   "metadata": {},
   "outputs": [
    {
     "data": {
      "text/plain": [
       "<generator object <genexpr> at 0x7fcfba6c26d0>"
      ]
     },
     "execution_count": 11,
     "metadata": {},
     "output_type": "execute_result"
    }
   ],
   "source": [
    "tupleA = (i**2 for i in range(10))\n",
    "tupleA"
   ]
  },
  {
   "cell_type": "code",
   "execution_count": 13,
   "id": "81b2da8a",
   "metadata": {},
   "outputs": [
    {
     "data": {
      "text/plain": [
       "{'positif': [], 'negatif': [-2]}"
      ]
     },
     "execution_count": 13,
     "metadata": {},
     "output_type": "execute_result"
    }
   ],
   "source": [
    "classeur = {\n",
    "    \"positif\": [],\n",
    "    \"negatif\": [],\n",
    "}\n",
    "def trier(classeur,nombre):\n",
    "    #classeur : dictionnaire taille 2\n",
    "    #nombre : int\n",
    "    #ranger nbre dans positif ou negatif dans le classeur selon le signe de nbre\n",
    "    if nombre > 0:\n",
    "        classeur['positif'].append(nombre)\n",
    "    else:\n",
    "        classeur['negatif'].append(nombre)\n",
    "    return classeur\n",
    "trier(classeur, -2)"
   ]
  },
  {
   "cell_type": "code",
   "execution_count": 14,
   "id": "f94bd82d",
   "metadata": {},
   "outputs": [
    {
     "data": {
      "text/plain": [
       "{'positif': [2], 'negatif': [-2]}"
      ]
     },
     "execution_count": 14,
     "metadata": {},
     "output_type": "execute_result"
    }
   ],
   "source": [
    "trier(classeur, 2)"
   ]
  },
  {
   "cell_type": "code",
   "execution_count": 15,
   "id": "b737871f",
   "metadata": {},
   "outputs": [
    {
     "data": {
      "text/plain": [
       "{'positif': [2, 12], 'negatif': [-2]}"
      ]
     },
     "execution_count": 15,
     "metadata": {},
     "output_type": "execute_result"
    }
   ],
   "source": [
    "trier(classeur, 12)"
   ]
  },
  {
   "cell_type": "code",
   "execution_count": 16,
   "id": "5957dd0d",
   "metadata": {},
   "outputs": [
    {
     "data": {
      "text/plain": [
       "{'positif': [2, 12], 'negatif': [-2, -12]}"
      ]
     },
     "execution_count": 16,
     "metadata": {},
     "output_type": "execute_result"
    }
   ],
   "source": [
    "trier(classeur, -12)"
   ]
  },
  {
   "cell_type": "code",
   "execution_count": 17,
   "id": "66134dda",
   "metadata": {},
   "outputs": [
    {
     "data": {
      "text/plain": [
       "{'positif': [2, 12], 'negatif': [-2, -12, 0]}"
      ]
     },
     "execution_count": 17,
     "metadata": {},
     "output_type": "execute_result"
    }
   ],
   "source": [
    "trier(classeur, 0)"
   ]
  },
  {
   "cell_type": "code",
   "execution_count": 18,
   "id": "d494aec5",
   "metadata": {},
   "outputs": [
    {
     "data": {
      "text/plain": [
       "{'positif': [2, 12, 52], 'negatif': [-2, -12, 0]}"
      ]
     },
     "execution_count": 18,
     "metadata": {},
     "output_type": "execute_result"
    }
   ],
   "source": [
    "trier(classeur, 52)"
   ]
  },
  {
   "cell_type": "code",
   "execution_count": null,
   "id": "fdb21fe8",
   "metadata": {},
   "outputs": [],
   "source": []
  }
 ],
 "metadata": {
  "kernelspec": {
   "display_name": "Python 3 (ipykernel)",
   "language": "python",
   "name": "python3"
  },
  "language_info": {
   "codemirror_mode": {
    "name": "ipython",
    "version": 3
   },
   "file_extension": ".py",
   "mimetype": "text/x-python",
   "name": "python",
   "nbconvert_exporter": "python",
   "pygments_lexer": "ipython3",
   "version": "3.9.13"
  }
 },
 "nbformat": 4,
 "nbformat_minor": 5
}
